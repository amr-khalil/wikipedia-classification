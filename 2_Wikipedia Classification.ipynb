{
 "cells": [
  {
   "cell_type": "markdown",
   "metadata": {},
   "source": [
    "# Analyse semi- und unstrukturierter Daten"
   ]
  },
  {
   "cell_type": "markdown",
   "metadata": {},
   "source": [
    "## Aufgabe 2.2 | Wikipedia Classification"
   ]
  },
  {
   "cell_type": "code",
   "execution_count": 1,
   "metadata": {},
   "outputs": [],
   "source": [
    "# -*- coding: utf-8 -*-\n",
    "\"\"\"\n",
    "Created on Sun May 31 12:35:53 2020\n",
    "@author: Amr.Khalil\n",
    "\"\"\"\n",
    "import requests\n",
    "import nltk\n",
    "import pandas as pd\n",
    "import numpy as np\n",
    "from sklearn.model_selection import train_test_split\n",
    "from sklearn.feature_extraction.text import CountVectorizer\n",
    "from sklearn.feature_extraction.text import TfidfTransformer\n",
    "from sklearn.pipeline import Pipeline\n",
    "from sklearn.svm import LinearSVC\n",
    "from sklearn.linear_model import LogisticRegression\n",
    "from sklearn.neighbors import KNeighborsClassifier\n",
    "from sklearn.metrics import accuracy_score"
   ]
  },
  {
   "cell_type": "code",
   "execution_count": 2,
   "metadata": {},
   "outputs": [
    {
     "data": {
      "text/html": [
       "<div>\n",
       "<style scoped>\n",
       "    .dataframe tbody tr th:only-of-type {\n",
       "        vertical-align: middle;\n",
       "    }\n",
       "\n",
       "    .dataframe tbody tr th {\n",
       "        vertical-align: top;\n",
       "    }\n",
       "\n",
       "    .dataframe thead th {\n",
       "        text-align: right;\n",
       "    }\n",
       "</style>\n",
       "<table border=\"1\" class=\"dataframe\">\n",
       "  <thead>\n",
       "    <tr style=\"text-align: right;\">\n",
       "      <th></th>\n",
       "      <th>Article</th>\n",
       "      <th>Category</th>\n",
       "      <th>Category_ID</th>\n",
       "      <th>Processed_Text</th>\n",
       "    </tr>\n",
       "  </thead>\n",
       "  <tbody>\n",
       "    <tr>\n",
       "      <th>0</th>\n",
       "      <td>Das Wort Kunst (lateinisch ars, griechisch téc...</td>\n",
       "      <td>Kunst &amp; Kultur</td>\n",
       "      <td>0</td>\n",
       "      <td>wort kunst latein ars griechisch chne bezeichn...</td>\n",
       "    </tr>\n",
       "    <tr>\n",
       "      <th>30</th>\n",
       "      <td>Komposition (lateinisch compositio „Zusammenst...</td>\n",
       "      <td>Kunst &amp; Kultur</td>\n",
       "      <td>0</td>\n",
       "      <td>komposition latein compositio zusammenstell zu...</td>\n",
       "    </tr>\n",
       "    <tr>\n",
       "      <th>60</th>\n",
       "      <td>Journalismus bezeichnet die periodische publiz...</td>\n",
       "      <td>Kunst &amp; Kultur</td>\n",
       "      <td>0</td>\n",
       "      <td>journalismus bezeichnet period publizist arbei...</td>\n",
       "    </tr>\n",
       "    <tr>\n",
       "      <th>90</th>\n",
       "      <td>Artikel verschwunden?\\n</td>\n",
       "      <td>Sport</td>\n",
       "      <td>1</td>\n",
       "      <td>artikel verschwund</td>\n",
       "    </tr>\n",
       "    <tr>\n",
       "      <th>120</th>\n",
       "      <td>Als Radsport, schweizerisch auch Velosport, be...</td>\n",
       "      <td>Sport</td>\n",
       "      <td>1</td>\n",
       "      <td>radsport schweizer velosport bezeichnet sporta...</td>\n",
       "    </tr>\n",
       "    <tr>\n",
       "      <th>150</th>\n",
       "      <td>Die Südostasienspiele sind sportliche Wettkämp...</td>\n",
       "      <td>Sport</td>\n",
       "      <td>1</td>\n",
       "      <td>sudostasienspiel sportlich wettkampf sudostasi...</td>\n",
       "    </tr>\n",
       "    <tr>\n",
       "      <th>180</th>\n",
       "      <td>Energie ist eine fundamentale physikalische Gr...</td>\n",
       "      <td>Wissenschaft</td>\n",
       "      <td>2</td>\n",
       "      <td>energi fundamental physikal gross teilgebiet p...</td>\n",
       "    </tr>\n",
       "    <tr>\n",
       "      <th>210</th>\n",
       "      <td>Umwelt bezeichnet etwas, mit dem ein Lebewesen...</td>\n",
       "      <td>Wissenschaft</td>\n",
       "      <td>2</td>\n",
       "      <td>umwelt bezeichnet lebewes analogi lebewes beha...</td>\n",
       "    </tr>\n",
       "  </tbody>\n",
       "</table>\n",
       "</div>"
      ],
      "text/plain": [
       "                                               Article        Category  \\\n",
       "0    Das Wort Kunst (lateinisch ars, griechisch téc...  Kunst & Kultur   \n",
       "30   Komposition (lateinisch compositio „Zusammenst...  Kunst & Kultur   \n",
       "60   Journalismus bezeichnet die periodische publiz...  Kunst & Kultur   \n",
       "90                             Artikel verschwunden?\\n           Sport   \n",
       "120  Als Radsport, schweizerisch auch Velosport, be...           Sport   \n",
       "150  Die Südostasienspiele sind sportliche Wettkämp...           Sport   \n",
       "180  Energie ist eine fundamentale physikalische Gr...    Wissenschaft   \n",
       "210  Umwelt bezeichnet etwas, mit dem ein Lebewesen...    Wissenschaft   \n",
       "\n",
       "     Category_ID                                     Processed_Text  \n",
       "0              0  wort kunst latein ars griechisch chne bezeichn...  \n",
       "30             0  komposition latein compositio zusammenstell zu...  \n",
       "60             0  journalismus bezeichnet period publizist arbei...  \n",
       "90             1                                 artikel verschwund  \n",
       "120            1  radsport schweizer velosport bezeichnet sporta...  \n",
       "150            1  sudostasienspiel sportlich wettkampf sudostasi...  \n",
       "180            2  energi fundamental physikal gross teilgebiet p...  \n",
       "210            2  umwelt bezeichnet lebewes analogi lebewes beha...  "
      ]
     },
     "execution_count": 2,
     "metadata": {},
     "output_type": "execute_result"
    }
   ],
   "source": [
    "df = pd.read_csv('data.csv')\n",
    "df[::30]"
   ]
  },
  {
   "cell_type": "code",
   "execution_count": 3,
   "metadata": {},
   "outputs": [],
   "source": [
    "# Split the Data into train and Test to measure the accuray\n",
    "X = df.Processed_Text\n",
    "y = df.Category_ID\n",
    "X_train, X_test, y_train, y_test = train_test_split(X, y, test_size=0.20, random_state =41)\n",
    "X_train, X_test, y_train, y_test = np.array(X_train), np.array(X_test), np.array(y_train), np.array(y_test)"
   ]
  },
  {
   "cell_type": "markdown",
   "metadata": {},
   "source": [
    "# Logistic Regression Classifier"
   ]
  },
  {
   "cell_type": "code",
   "execution_count": 4,
   "metadata": {},
   "outputs": [
    {
     "name": "stdout",
     "output_type": "stream",
     "text": [
      "Logistic Regression Classifier Accuracy: 85.11%\n"
     ]
    }
   ],
   "source": [
    "pipe = Pipeline([('vect', CountVectorizer(max_features=3000)),\n",
    "                 ('tfidf', TfidfTransformer()),\n",
    "                 ('model', LogisticRegression())])\n",
    "\n",
    "LR_clf = pipe.fit(X_train, y_train)\n",
    "prediction = LR_clf.predict(X_test)\n",
    "print(\"Logistic Regression Classifier Accuracy: {}%\".format(round(accuracy_score(y_test, prediction)*100,2)))"
   ]
  },
  {
   "cell_type": "markdown",
   "metadata": {},
   "source": [
    "# Linear Support Vector Classifier"
   ]
  },
  {
   "cell_type": "code",
   "execution_count": 5,
   "metadata": {},
   "outputs": [
    {
     "name": "stdout",
     "output_type": "stream",
     "text": [
      "Linear Support Vector Classifier Accuracy: 93.62%\n"
     ]
    }
   ],
   "source": [
    "pipe = Pipeline([('vect', CountVectorizer(max_features=3000)),\n",
    "                 ('tfidf', TfidfTransformer()),\n",
    "                 ('model', LinearSVC())])\n",
    "\n",
    "LSVC_clf = pipe.fit(X_train, y_train)\n",
    "prediction = LSVC_clf.predict(X_test)\n",
    "print(\"Linear Support Vector Classifier Accuracy: {}%\".format(round(accuracy_score(y_test, prediction)*100,2)))"
   ]
  },
  {
   "cell_type": "markdown",
   "metadata": {},
   "source": [
    "# KNN Classifier"
   ]
  },
  {
   "cell_type": "code",
   "execution_count": 6,
   "metadata": {},
   "outputs": [
    {
     "name": "stdout",
     "output_type": "stream",
     "text": [
      "KNN Classifier Accuracy: 95.74%\n"
     ]
    }
   ],
   "source": [
    "pipe = Pipeline([('vect', CountVectorizer(max_features=3000)),\n",
    "                 ('tfidf', TfidfTransformer()),\n",
    "                 ('model', KNeighborsClassifier(n_neighbors=3))])\n",
    "\n",
    "KNN = pipe.fit(X_train, y_train)\n",
    "prediction = KNN.predict(X_test)\n",
    "print(\"KNN Classifier Accuracy: {}%\".format(round(accuracy_score(y_test, prediction)*100,2))) # KNN is the best accuracy"
   ]
  },
  {
   "cell_type": "code",
   "execution_count": 7,
   "metadata": {},
   "outputs": [],
   "source": [
    "import requests\n",
    "from bs4 import BeautifulSoup\n",
    "import re\n",
    "import nltk\n",
    "\n",
    "# We need this dataset in order to use the tokenizer\n",
    "#nltk.download('punkt')\n",
    "from nltk.tokenize import word_tokenize\n",
    "\n",
    "# Also download the list of stopwords to filter out\n",
    "#nltk.download('stopwords')\n",
    "from nltk.corpus import stopwords\n",
    "\n",
    "# Import the snowball stemmer for german language\n",
    "from nltk.stem.snowball import GermanStemmer\n",
    "stemmer = GermanStemmer()\n",
    "\n",
    "def process_text(text):\n",
    "    # Make all the strings lowercase and remove non alphabetic characters\n",
    "    text = re.sub('[^A-Za-zäöüß]', ' ', text.lower())\n",
    "\n",
    "    # Tokenize the text; this is, separate every sentence into a list of words\n",
    "    # Since the text is already split into sentences you don't have to call sent_tokenize\n",
    "    tokenized_text = word_tokenize(text)\n",
    "\n",
    "    # Remove the stopwords and stem each word to its root\n",
    "    stemm_text = [stemmer.stem(w) for w in tokenized_text if w not in stopwords.words('german')]\n",
    "    \n",
    "    # Remove any word less then 2 charachters\n",
    "    clean_text = [w for w in stemm_text if len(w) > 2]\n",
    "\n",
    "    # This final output is a list of words\n",
    "    return \" \".join(clean_text)"
   ]
  },
  {
   "cell_type": "code",
   "execution_count": 8,
   "metadata": {},
   "outputs": [],
   "source": [
    "# Make prediction\n",
    "def perdiction(titles):\n",
    "    for title in titles:\n",
    "        page = requests.get('https://de.wikipedia.org/wiki/'+str(title))\n",
    "        soup = BeautifulSoup(page.content, 'html.parser')\n",
    "        paragraphs = soup.select('p')\n",
    "        article_text = \"\"\n",
    "        for para in paragraphs:\n",
    "            article_text += para.text\n",
    "\n",
    "        clean_text = process_text(article_text)\n",
    "        pred = KNN.predict([clean_text])\n",
    "\n",
    "        id_to_category = {0:'Kunst & Kultur', 1:'Sport', 2:'Wissenschaft'}\n",
    "\n",
    "        result = id_to_category[pred[0]]\n",
    "        print(\"{} article is: {}\".format(title, result)) \n"
   ]
  },
  {
   "cell_type": "code",
   "execution_count": 9,
   "metadata": {
    "scrolled": false
   },
   "outputs": [
    {
     "name": "stdout",
     "output_type": "stream",
     "text": [
      "FC_Bayern article is: Sport\n",
      "Marie_Curie article is: Wissenschaft\n",
      "Johann_Wolfgang_von_Goethe article is: Kunst & Kultur\n"
     ]
    }
   ],
   "source": [
    "articles = ['FC_Bayern','Marie_Curie', 'Johann_Wolfgang_von_Goethe']\n",
    "perdiction(articles)"
   ]
  },
  {
   "cell_type": "code",
   "execution_count": null,
   "metadata": {},
   "outputs": [],
   "source": []
  }
 ],
 "metadata": {
  "kernelspec": {
   "display_name": "Python 3",
   "language": "python",
   "name": "python3"
  },
  "language_info": {
   "codemirror_mode": {
    "name": "ipython",
    "version": 3
   },
   "file_extension": ".py",
   "mimetype": "text/x-python",
   "name": "python",
   "nbconvert_exporter": "python",
   "pygments_lexer": "ipython3",
   "version": "3.7.2"
  }
 },
 "nbformat": 4,
 "nbformat_minor": 4
}
